{
  "cells": [
    {
      "cell_type": "code",
      "source": [
        "import requests\n",
        "\n",
        "# URL al contenido bruto del archivo\n",
        "base_url = \"https://raw.githubusercontent.com/Jorgellamocca/WRF/main/datos_wrf_out/\"\n",
        "file_names = [\n",
        "\n",
        "    \"wrfout_d02_2024-11-24_09:00:00\",\n",
        "    \"wrfout_d02_2024-11-24_10:00:00\"\n",
        "]\n",
        "\n",
        "# Descargar los archivos\n",
        "for file_name in file_names:\n",
        "    file_url = f\"{base_url}{file_name}\"\n",
        "    local_file = f\"./{file_name}\"\n",
        "    try:\n",
        "        response = requests.get(file_url, stream=True)\n",
        "        if response.status_code == 200:\n",
        "            with open(local_file, \"wb\") as f:\n",
        "                f.write(response.content)\n",
        "            print(f\"Archivo descargado exitosamente: {local_file}\")\n",
        "        else:\n",
        "            print(f\"Error al descargar el archivo {file_name}: {response.status_code}\")\n",
        "    except Exception as e:\n",
        "        print(f\"Error durante la descarga del archivo {file_name}: {e}\")\n",
        "\n"
      ],
      "metadata": {
        "colab": {
          "base_uri": "https://localhost:8080/"
        },
        "id": "dQysbqyQa3lU",
        "outputId": "b98fc3e3-9bce-4ee6-d441-3b57c7abd84d"
      },
      "execution_count": 27,
      "outputs": [
        {
          "output_type": "stream",
          "name": "stdout",
          "text": [
            "Archivo descargado exitosamente: ./wrfout_d02_2024-11-24_09:00:00\n",
            "Archivo descargado exitosamente: ./wrfout_d02_2024-11-24_10:00:00\n"
          ]
        }
      ]
    },
    {
      "cell_type": "code",
      "source": [
        "import xarray as xr\n",
        "import matplotlib.pyplot as plt\n",
        "import cartopy.crs as ccrs\n",
        "import cartopy.feature as cfeature\n",
        "\n",
        "# Rutas de los archivos WRF\n",
        "file_current = \"./wrfout_d02_2024-11-24_09:00:00\"\n",
        "file_previous = \"./wrfout_d02_2024-11-24_10:00:00\"\n",
        "\n",
        "try:\n",
        "    # Cargar los archivos WRF con el motor adecuado\n",
        "    ds_current = xr.open_dataset(file_current, engine=\"netcdf4\")\n",
        "    ds_previous = xr.open_dataset(file_previous, engine=\"netcdf4\")\n",
        "\n",
        "    # Validar si las variables de precipitación están disponibles\n",
        "    if \"RAINNC\" not in ds_current.variables or \"RAINC\" not in ds_current.variables:\n",
        "        raise ValueError(\"Variables RAINNC o RAINC no encontradas en los archivos.\")\n",
        "\n",
        "    # Calcular el acumulado total de precipitación en ambos tiempos\n",
        "    precip_total_current = ds_current[\"RAINNC\"] + ds_current[\"RAINC\"]\n",
        "    precip_total_previous = ds_previous[\"RAINNC\"] + ds_previous[\"RAINC\"]\n",
        "\n",
        "    # Calcular el acumulado horario\n",
        "    precip_hourly = precip_total_current - precip_total_previous\n",
        "\n",
        "    # Crear el gráfico con Cartopy\n",
        "    fig, ax = plt.subplots(\n",
        "        figsize=(12, 8), subplot_kw={\"projection\": ccrs.PlateCarree()}\n",
        "    )\n",
        "\n",
        "    # Graficar el acumulado horario con el colormap nipy_spectral\n",
        "    mesh = ax.pcolormesh(\n",
        "        ds_current[\"XLONG\"].isel(Time=0),\n",
        "        ds_current[\"XLAT\"].isel(Time=0),\n",
        "        precip_hourly.isel(Time=0),\n",
        "        cmap=\"nipy_spectral\",\n",
        "        transform=ccrs.PlateCarree(),  # Transformación a coordenadas geográficas\n",
        "    )\n",
        "    plt.colorbar(mesh, ax=ax, orientation=\"horizontal\", label=\"Precipitación horaria (mm)\")\n",
        "\n",
        "    # Añadir detalles al mapa\n",
        "    ax.add_feature(cfeature.COASTLINE, linewidth=1)\n",
        "    ax.add_feature(cfeature.BORDERS, linestyle=\"--\", edgecolor=\"gray\")\n",
        "    ax.gridlines(draw_labels=True, linestyle=\"--\", alpha=0.5)\n",
        "    ax.set_title(\"Acumulado Horario de Precipitación - Colormap nipy_spectral\")\n",
        "    plt.show()\n",
        "\n",
        "except Exception as e:\n",
        "    print(f\"Error: {e}\")\n"
      ],
      "metadata": {
        "id": "Zt9oppBBdZrb"
      },
      "execution_count": null,
      "outputs": []
    }
  ],
  "metadata": {
    "colab": {
      "provenance": []
    },
    "language_info": {
      "name": "python"
    },
    "kernelspec": {
      "name": "python3",
      "display_name": "Python 3"
    }
  },
  "nbformat": 4,
  "nbformat_minor": 0
}