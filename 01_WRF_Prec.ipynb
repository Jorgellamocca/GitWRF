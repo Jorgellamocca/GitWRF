{
  "cells": [
    {
      "cell_type": "code",
      "source": [],
      "metadata": {
        "id": "dQysbqyQa3lU"
      },
      "execution_count": null,
      "outputs": []
    }
  ],
  "metadata": {
    "colab": {
      "provenance": []
    },
    "language_info": {
      "name": "python"
    },
    "kernelspec": {
      "name": "python3",
      "display_name": "Python 3"
    }
  },
  "nbformat": 4,
  "nbformat_minor": 0
}